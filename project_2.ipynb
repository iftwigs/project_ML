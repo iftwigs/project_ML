{
 "cells": [
  {
   "cell_type": "markdown",
   "metadata": {},
   "source": [
    "## Рецепты и LDA"
   ]
  },
  {
   "cell_type": "markdown",
   "metadata": {},
   "source": [
    "Датасет с ингредиентами, но без названий рецептов — достаточно нетривиально, но дает пространство для творчества."
   ]
  },
  {
   "cell_type": "code",
   "execution_count": 1,
   "metadata": {},
   "outputs": [],
   "source": [
    "import json\n",
    "with open(\"_e3e6a884a5431c0a4f8f24f439410ce0_recipes.json\") as f:\n",
    "    recipes = json.load(f)"
   ]
  },
  {
   "cell_type": "code",
   "execution_count": 4,
   "metadata": {},
   "outputs": [
    {
     "name": "stdout",
     "output_type": "stream",
     "text": [
      "[{'id': 10259, 'cuisine': 'greek', 'ingredients': ['romaine lettuce', 'black olives', 'grape tomatoes', 'garlic', 'pepper', 'purple onion', 'seasoning', 'garbanzo beans', 'feta cheese crumbles']}, {'id': 25693, 'cuisine': 'southern_us', 'ingredients': ['plain flour', 'ground pepper', 'salt', 'tomatoes', 'ground black pepper', 'thyme', 'eggs', 'green tomatoes', 'yellow corn meal', 'milk', 'vegetable oil']}]\n"
     ]
    }
   ],
   "source": [
    "print(recipes[0:2])"
   ]
  },
  {
   "cell_type": "markdown",
   "metadata": {},
   "source": [
    "Оказывается, для каждого рецепта указана еще и кухня."
   ]
  },
  {
   "cell_type": "markdown",
   "metadata": {},
   "source": [
    "## Создание корпуса и LDA-модели"
   ]
  },
  {
   "cell_type": "markdown",
   "metadata": {},
   "source": [
    "Предобработки как таковой не требуется. Составляем корпус:"
   ]
  },
  {
   "cell_type": "code",
   "execution_count": 5,
   "metadata": {},
   "outputs": [
    {
     "name": "stderr",
     "output_type": "stream",
     "text": [
      "/anaconda2/envs/python3/lib/python3.6/site-packages/smart_open/ssh.py:34: UserWarning: paramiko missing, opening SSH/SCP/SFTP paths will be disabled.  `pip install paramiko` to suppress\n",
      "  warnings.warn('paramiko missing, opening SSH/SCP/SFTP paths will be disabled.  `pip install paramiko` to suppress')\n"
     ]
    }
   ],
   "source": [
    "from gensim import corpora, models\n",
    "import numpy as np"
   ]
  },
  {
   "cell_type": "code",
   "execution_count": 6,
   "metadata": {},
   "outputs": [
    {
     "name": "stdout",
     "output_type": "stream",
     "text": [
      "Collecting paramiko\n",
      "\u001b[?25l  Downloading https://files.pythonhosted.org/packages/cf/ae/94e70d49044ccc234bfdba20114fa947d7ba6eb68a2e452d89b920e62227/paramiko-2.4.2-py2.py3-none-any.whl (193kB)\n",
      "\u001b[K    100% |████████████████████████████████| 194kB 759kB/s ta 0:00:01\n",
      "\u001b[?25hCollecting pyasn1>=0.1.7 (from paramiko)\n",
      "\u001b[?25l  Downloading https://files.pythonhosted.org/packages/7b/7c/c9386b82a25115cccf1903441bba3cbadcfae7b678a20167347fa8ded34c/pyasn1-0.4.5-py2.py3-none-any.whl (73kB)\n",
      "\u001b[K    100% |████████████████████████████████| 81kB 628kB/s ta 0:00:011\n",
      "\u001b[?25hRequirement already satisfied: cryptography>=1.5 in /anaconda2/envs/python3/lib/python3.6/site-packages (from paramiko) (2.2.2)\n",
      "Collecting bcrypt>=3.1.3 (from paramiko)\n",
      "\u001b[?25l  Downloading https://files.pythonhosted.org/packages/c8/05/e51ab21c47981eb554a94a7b5af9e61f82640dec99713cd3b359c91ff39e/bcrypt-3.1.6-cp34-abi3-macosx_10_6_intel.whl (53kB)\n",
      "\u001b[K    100% |████████████████████████████████| 61kB 597kB/s ta 0:00:011\n",
      "\u001b[?25hCollecting pynacl>=1.0.1 (from paramiko)\n",
      "\u001b[?25l  Downloading https://files.pythonhosted.org/packages/cd/c9/4d6deea9d900345b1243cc3e6265110697fae5e594689cfa1ba34e0ef4a8/PyNaCl-1.3.0-cp34-abi3-macosx_10_6_intel.whl (284kB)\n",
      "\u001b[K    100% |████████████████████████████████| 286kB 1.8MB/s ta 0:00:01\n",
      "\u001b[?25hRequirement already satisfied: idna>=2.1 in /anaconda2/envs/python3/lib/python3.6/site-packages (from cryptography>=1.5->paramiko) (2.6)\n",
      "Requirement already satisfied: asn1crypto>=0.21.0 in /anaconda2/envs/python3/lib/python3.6/site-packages (from cryptography>=1.5->paramiko) (0.24.0)\n",
      "Requirement already satisfied: six>=1.4.1 in /anaconda2/envs/python3/lib/python3.6/site-packages (from cryptography>=1.5->paramiko) (1.11.0)\n",
      "Requirement already satisfied: cffi>=1.7 in /anaconda2/envs/python3/lib/python3.6/site-packages (from cryptography>=1.5->paramiko) (1.11.5)\n",
      "Requirement already satisfied: pycparser in /anaconda2/envs/python3/lib/python3.6/site-packages (from cffi>=1.7->cryptography>=1.5->paramiko) (2.18)\n",
      "Installing collected packages: pyasn1, bcrypt, pynacl, paramiko\n",
      "Successfully installed bcrypt-3.1.6 paramiko-2.4.2 pyasn1-0.4.5 pynacl-1.3.0\n",
      "\u001b[33mYou are using pip version 18.1, however version 19.1 is available.\n",
      "You should consider upgrading via the 'pip install --upgrade pip' command.\u001b[0m\n"
     ]
    }
   ],
   "source": [
    "!pip3 install paramiko"
   ]
  },
  {
   "cell_type": "code",
   "execution_count": 7,
   "metadata": {},
   "outputs": [],
   "source": [
    "texts = [recipe[\"ingredients\"] for recipe in recipes]\n",
    "dictionary = corpora.Dictionary(texts)\n",
    "corpus = [dictionary.doc2bow(text) for text in texts] "
   ]
  },
  {
   "cell_type": "markdown",
   "metadata": {},
   "source": [
    "Обучим LDA-модель с 50 темами, чтобы объединить те слова, которые часто встречаются рядом в текстах."
   ]
  },
  {
   "cell_type": "code",
   "execution_count": 22,
   "metadata": {},
   "outputs": [],
   "source": [
    "np.random.seed(32562)\n",
    "ldamodel = models.ldamodel.LdaModel(corpus, num_topics=50, id2word=dictionary, passes=5)"
   ]
  },
  {
   "cell_type": "code",
   "execution_count": 23,
   "metadata": {},
   "outputs": [
    {
     "data": {
      "text/plain": [
       "[(0,\n",
       "  '0.155*\"garlic powder\" + 0.147*\"paprika\" + 0.113*\"cayenne pepper\" + 0.058*\"onion powder\" + 0.049*\"salt\" + 0.043*\"ground black pepper\" + 0.037*\"black pepper\" + 0.027*\"chili powder\" + 0.026*\"apple cider vinegar\" + 0.026*\"dried oregano\"'),\n",
       " (1,\n",
       "  '0.095*\"onions\" + 0.092*\"carrots\" + 0.049*\"salt\" + 0.047*\"bay leaf\" + 0.043*\"tomato paste\" + 0.043*\"bay leaves\" + 0.041*\"celery\" + 0.039*\"water\" + 0.037*\"celery ribs\" + 0.036*\"olive oil\"'),\n",
       " (2,\n",
       "  '0.181*\"pepper\" + 0.153*\"salt\" + 0.075*\"eggs\" + 0.065*\"flour\" + 0.056*\"onions\" + 0.043*\"butter\" + 0.027*\"milk\" + 0.027*\"chicken\" + 0.026*\"garlic\" + 0.025*\"oil\"'),\n",
       " (3,\n",
       "  '0.101*\"soy sauce\" + 0.057*\"sesame oil\" + 0.048*\"corn starch\" + 0.046*\"garlic\" + 0.043*\"green onions\" + 0.039*\"sugar\" + 0.034*\"water\" + 0.030*\"scallions\" + 0.030*\"salt\" + 0.029*\"ginger\"'),\n",
       " (4,\n",
       "  '0.119*\"white vinegar\" + 0.108*\"cold water\" + 0.093*\"sauce\" + 0.071*\"chopped garlic\" + 0.051*\"dry sherry\" + 0.037*\"french bread\" + 0.034*\"boneless chicken breast\" + 0.027*\"caster sugar\" + 0.026*\"maple syrup\" + 0.026*\"peaches\"'),\n",
       " (5,\n",
       "  '0.108*\"grated parmesan cheese\" + 0.056*\"tomato sauce\" + 0.054*\"salt\" + 0.051*\"garlic\" + 0.047*\"olive oil\" + 0.042*\"mozzarella cheese\" + 0.041*\"parmesan cheese\" + 0.039*\"shredded mozzarella cheese\" + 0.033*\"pepper\" + 0.032*\"onions\"'),\n",
       " (6,\n",
       "  '0.143*\"cooking oil\" + 0.094*\"chopped tomatoes\" + 0.093*\"beef\" + 0.048*\"iceberg lettuce\" + 0.035*\"lettuce\" + 0.033*\"fish\" + 0.033*\"bok choy\" + 0.031*\"sunflower oil\" + 0.030*\"broth\" + 0.028*\"onions\"'),\n",
       " (7,\n",
       "  '0.163*\"cooking spray\" + 0.096*\"salt\" + 0.081*\"garlic cloves\" + 0.056*\"fat free less sodium chicken broth\" + 0.048*\"olive oil\" + 0.045*\"black pepper\" + 0.043*\"leeks\" + 0.038*\"ground black pepper\" + 0.031*\"fresh mushrooms\" + 0.025*\"water\"'),\n",
       " (8,\n",
       "  '0.118*\"warm water\" + 0.085*\"salt\" + 0.078*\"active dry yeast\" + 0.071*\"hot water\" + 0.063*\"all-purpose flour\" + 0.053*\"lean ground beef\" + 0.047*\"shortening\" + 0.040*\"bread flour\" + 0.039*\"black-eyed peas\" + 0.035*\"kalamata\"'),\n",
       " (9,\n",
       "  '0.081*\"salt\" + 0.065*\"onions\" + 0.058*\"oil\" + 0.054*\"garam masala\" + 0.046*\"ginger\" + 0.046*\"ground turmeric\" + 0.044*\"tumeric\" + 0.039*\"green chilies\" + 0.034*\"tomatoes\" + 0.032*\"chili powder\"'),\n",
       " (10,\n",
       "  '0.085*\"cinnamon sticks\" + 0.079*\"clove\" + 0.066*\"black peppercorns\" + 0.061*\"cinnamon\" + 0.050*\"coriander seeds\" + 0.048*\"cumin seed\" + 0.040*\"water\" + 0.033*\"yoghurt\" + 0.031*\"bay leaves\" + 0.031*\"fennel seeds\"'),\n",
       " (11,\n",
       "  '0.082*\"yellow bell pepper\" + 0.080*\"fresh parmesan cheese\" + 0.068*\"greek yogurt\" + 0.068*\"part-skim mozzarella cheese\" + 0.053*\"lettuce leaves\" + 0.048*\"mint\" + 0.048*\"polenta\" + 0.048*\"butternut squash\" + 0.046*\"frozen chopped spinach\" + 0.033*\"pizza doughs\"'),\n",
       " (12,\n",
       "  '0.096*\"chopped fresh mint\" + 0.081*\"baguette\" + 0.053*\"goat cheese\" + 0.048*\"all purpose unbleached flour\" + 0.046*\"strawberries\" + 0.046*\"sugar\" + 0.043*\"ginger paste\" + 0.037*\"dark rum\" + 0.036*\"walnuts\" + 0.035*\"granny smith apples\"'),\n",
       " (13,\n",
       "  '0.117*\"green bell pepper\" + 0.082*\"onions\" + 0.071*\"red bell pepper\" + 0.045*\"salt\" + 0.043*\"garlic\" + 0.036*\"oregano\" + 0.034*\"vegetable broth\" + 0.032*\"vegetable oil\" + 0.032*\"long-grain rice\" + 0.031*\"medium shrimp\"'),\n",
       " (14,\n",
       "  '0.078*\"garlic\" + 0.077*\"fresh parsley\" + 0.067*\"olive oil\" + 0.066*\"crushed red pepper flakes\" + 0.057*\"salt\" + 0.053*\"ground black pepper\" + 0.043*\"bread crumbs\" + 0.043*\"low sodium chicken broth\" + 0.039*\"grated parmesan cheese\" + 0.036*\"butter\"'),\n",
       " (15,\n",
       "  '0.121*\"zucchini\" + 0.102*\"potatoes\" + 0.084*\"onions\" + 0.069*\"salt\" + 0.049*\"garlic\" + 0.049*\"water\" + 0.046*\"eggplant\" + 0.044*\"olive oil\" + 0.032*\"carrots\" + 0.029*\"salt and ground black pepper\"'),\n",
       " (16,\n",
       "  '0.120*\"cajun seasoning\" + 0.104*\"green pepper\" + 0.057*\"pork tenderloin\" + 0.051*\"sausages\" + 0.050*\"shredded cheese\" + 0.046*\"pinto beans\" + 0.046*\"cooked chicken\" + 0.042*\"green onions\" + 0.042*\"ground cardamom\" + 0.034*\"greek style plain yogurt\"'),\n",
       " (17,\n",
       "  '0.073*\"black beans\" + 0.056*\"green onions\" + 0.056*\"enchilada sauce\" + 0.048*\"feta cheese\" + 0.043*\"fresh dill\" + 0.043*\"tomatoes\" + 0.042*\"refried beans\" + 0.042*\"tortillas\" + 0.040*\"pitted kalamata olives\" + 0.038*\"black olives\"'),\n",
       " (18,\n",
       "  '0.188*\"coconut milk\" + 0.124*\"sweet potatoes\" + 0.056*\"coconut oil\" + 0.055*\"brown rice\" + 0.041*\"button mushrooms\" + 0.039*\"dried apricot\" + 0.037*\"red cabbage\" + 0.036*\"water\" + 0.030*\"mint sprigs\" + 0.029*\"red curry paste\"'),\n",
       " (19,\n",
       "  '0.070*\"cheese\" + 0.069*\"olive oil\" + 0.067*\"white wine\" + 0.060*\"sweet onion\" + 0.057*\"balsamic vinegar\" + 0.052*\"salt\" + 0.045*\"basil leaves\" + 0.040*\"pepper\" + 0.033*\"penne pasta\" + 0.031*\"tomatoes\"'),\n",
       " (20,\n",
       "  '0.132*\"extra-virgin olive oil\" + 0.064*\"garlic cloves\" + 0.052*\"olive oil\" + 0.050*\"salt\" + 0.049*\"flat leaf parsley\" + 0.046*\"ground black pepper\" + 0.043*\"plum tomatoes\" + 0.042*\"red wine vinegar\" + 0.038*\"purple onion\" + 0.034*\"large garlic cloves\"'),\n",
       " (21,\n",
       "  '0.081*\"sugar\" + 0.060*\"soy sauce\" + 0.057*\"mirin\" + 0.056*\"rice vinegar\" + 0.049*\"fresh mint\" + 0.046*\"cider vinegar\" + 0.040*\"sake\" + 0.037*\"water\" + 0.035*\"sesame seeds\" + 0.034*\"carrots\"'),\n",
       " (22,\n",
       "  '0.087*\"jalapeno chilies\" + 0.070*\"salt\" + 0.054*\"lime\" + 0.050*\"avocado\" + 0.045*\"cilantro\" + 0.043*\"garlic\" + 0.042*\"fresh cilantro\" + 0.037*\"white onion\" + 0.036*\"olive oil\" + 0.036*\"chopped cilantro\"'),\n",
       " (23,\n",
       "  '0.142*\"dried oregano\" + 0.080*\"olive oil\" + 0.078*\"crushed red pepper\" + 0.076*\"fresh basil\" + 0.072*\"dried basil\" + 0.047*\"ricotta cheese\" + 0.046*\"low salt chicken broth\" + 0.044*\"garlic cloves\" + 0.043*\"feta cheese crumbles\" + 0.042*\"minced garlic\"'),\n",
       " (24,\n",
       "  '0.143*\"mayonaise\" + 0.100*\"coarse salt\" + 0.089*\"dijon mustard\" + 0.063*\"ground pepper\" + 0.054*\"white wine vinegar\" + 0.042*\"nutmeg\" + 0.035*\"red potato\" + 0.032*\"yukon gold potatoes\" + 0.031*\"bacon slices\" + 0.029*\"stewed tomatoes\"'),\n",
       " (25,\n",
       "  '0.094*\"dry white wine\" + 0.087*\"shallots\" + 0.075*\"freshly ground pepper\" + 0.070*\"olive oil\" + 0.046*\"garlic cloves\" + 0.039*\"salt\" + 0.038*\"fresh rosemary\" + 0.035*\"extra-virgin olive oil\" + 0.033*\"butter\" + 0.028*\"chopped fresh thyme\"'),\n",
       " (26,\n",
       "  '0.251*\"white sugar\" + 0.124*\"light brown sugar\" + 0.094*\"chicken thighs\" + 0.047*\"chicken breast halves\" + 0.045*\"snow peas\" + 0.041*\"green peas\" + 0.038*\"pecans\" + 0.034*\"marsala wine\" + 0.030*\"clams\" + 0.027*\"orzo\"'),\n",
       " (27,\n",
       "  '0.187*\"cream cheese\" + 0.100*\"boiling water\" + 0.080*\"prosciutto\" + 0.060*\"almonds\" + 0.050*\"shredded sharp cheddar cheese\" + 0.048*\"ancho chile pepper\" + 0.030*\"sage leaves\" + 0.030*\"blackberries\" + 0.028*\"fat\" + 0.024*\"skim milk\"'),\n",
       " (28,\n",
       "  '0.107*\"ground beef\" + 0.088*\"finely chopped onion\" + 0.083*\"cream\" + 0.070*\"roma tomatoes\" + 0.064*\"tomato purée\" + 0.061*\"evaporated milk\" + 0.057*\"whipping cream\" + 0.056*\"reduced sodium soy sauce\" + 0.042*\"cream cheese, soften\" + 0.042*\"sharp cheddar cheese\"'),\n",
       " (29,\n",
       "  '0.069*\"spring onions\" + 0.069*\"chicken stock\" + 0.065*\"light soy sauce\" + 0.065*\"sliced green onions\" + 0.064*\"peeled fresh ginger\" + 0.054*\"toasted sesame seeds\" + 0.052*\"dark soy sauce\" + 0.039*\"chives\" + 0.037*\"beansprouts\" + 0.031*\"sugar\"'),\n",
       " (30,\n",
       "  '0.106*\"sugar\" + 0.094*\"milk\" + 0.085*\"butter\" + 0.059*\"vanilla extract\" + 0.056*\"salt\" + 0.053*\"eggs\" + 0.045*\"egg yolks\" + 0.041*\"water\" + 0.028*\"egg whites\" + 0.024*\"flour\"'),\n",
       " (31,\n",
       "  '0.160*\"heavy cream\" + 0.088*\"granulated sugar\" + 0.052*\"unsalted butter\" + 0.048*\"cornmeal\" + 0.047*\"large egg whites\" + 0.039*\"confectioners sugar\" + 0.038*\"sugar\" + 0.038*\"unsweetened cocoa powder\" + 0.034*\"asparagus\" + 0.032*\"salt\"'),\n",
       " (32,\n",
       "  '0.133*\"cumin seed\" + 0.119*\"rice\" + 0.083*\"frozen peas\" + 0.070*\"fresh coriander\" + 0.068*\"romaine lettuce\" + 0.064*\"mint leaves\" + 0.054*\"cauliflower\" + 0.035*\"rice flour\" + 0.034*\"water\" + 0.025*\"coconut\"'),\n",
       " (33,\n",
       "  '0.154*\"bacon\" + 0.119*\"red pepper\" + 0.115*\"cabbage\" + 0.075*\"onions\" + 0.040*\"apples\" + 0.032*\"seasoning\" + 0.031*\"paneer\" + 0.030*\"swiss chard\" + 0.027*\"salt\" + 0.026*\"asiago\"'),\n",
       " (34,\n",
       "  '0.206*\"sea salt\" + 0.181*\"lime juice\" + 0.080*\"cracked black pepper\" + 0.039*\"saffron\" + 0.033*\"Thai red curry paste\" + 0.027*\"cannellini beans\" + 0.026*\"chili flakes\" + 0.026*\"tequila\" + 0.024*\"jasmine rice\" + 0.022*\"olive oil\"'),\n",
       " (35,\n",
       "  '0.267*\"lemon\" + 0.078*\"spinach\" + 0.073*\"orange\" + 0.054*\"ground white pepper\" + 0.040*\"vegetables\" + 0.035*\"fresh thyme\" + 0.030*\"cremini mushrooms\" + 0.029*\"dashi\" + 0.027*\"water\" + 0.025*\"gingerroot\"'),\n",
       " (36,\n",
       "  '0.177*\"all-purpose flour\" + 0.103*\"salt\" + 0.096*\"baking powder\" + 0.057*\"butter\" + 0.052*\"baking soda\" + 0.052*\"sugar\" + 0.049*\"large eggs\" + 0.046*\"buttermilk\" + 0.044*\"eggs\" + 0.041*\"milk\"'),\n",
       " (37,\n",
       "  '0.150*\"ground cinnamon\" + 0.114*\"ground ginger\" + 0.100*\"ground nutmeg\" + 0.067*\"ground cloves\" + 0.054*\"half & half\" + 0.054*\"ground allspice\" + 0.047*\"raisins\" + 0.037*\"golden raisins\" + 0.036*\"dry bread crumbs\" + 0.027*\"wonton wrappers\"'),\n",
       " (38,\n",
       "  '0.141*\"crushed tomatoes\" + 0.054*\"beef stock\" + 0.052*\"poblano peppers\" + 0.052*\"chipotle chile\" + 0.039*\"seasoned bread crumbs\" + 0.025*\"asafoetida\" + 0.023*\"parmigiano-reggiano cheese\" + 0.022*\"yellow onion\" + 0.022*\"poultry seasoning\" + 0.021*\"salted butter\"'),\n",
       " (39,\n",
       "  '0.251*\"brown sugar\" + 0.161*\"cucumber\" + 0.054*\"red chili peppers\" + 0.032*\"light coconut milk\" + 0.031*\"daikon\" + 0.029*\"peanut butter\" + 0.027*\"pork belly\" + 0.025*\"ginger root\" + 0.022*\"Thai fish sauce\" + 0.021*\"sweet chili sauce\"'),\n",
       " (40,\n",
       "  '0.152*\"canola oil\" + 0.104*\"scallions\" + 0.103*\"chicken breasts\" + 0.071*\"boneless skinless chicken breasts\" + 0.061*\"mushrooms\" + 0.045*\"kosher salt\" + 0.042*\"red pepper flakes\" + 0.033*\"garlic\" + 0.029*\"chicken broth\" + 0.028*\"ground black pepper\"'),\n",
       " (41,\n",
       "  '0.149*\"large eggs\" + 0.135*\"unsalted butter\" + 0.078*\"all-purpose flour\" + 0.064*\"salt\" + 0.064*\"fresh lemon juice\" + 0.053*\"whole milk\" + 0.046*\"sugar\" + 0.035*\"large egg yolks\" + 0.034*\"parmigiano reggiano cheese\" + 0.033*\"water\"'),\n",
       " (42,\n",
       "  '0.109*\"dry red wine\" + 0.079*\"fresh spinach\" + 0.075*\"corn kernels\" + 0.063*\"brandy\" + 0.060*\"whole wheat flour\" + 0.055*\"orange zest\" + 0.039*\"sugar\" + 0.035*\"leg of lamb\" + 0.033*\"sweetened coconut flakes\" + 0.032*\"tomato juice\"'),\n",
       " (43,\n",
       "  '0.148*\"fresh lime juice\" + 0.137*\"chopped cilantro fresh\" + 0.042*\"chiles\" + 0.042*\"tortilla chips\" + 0.039*\"vegetable oil\" + 0.036*\"mango\" + 0.034*\"chile pepper\" + 0.033*\"lime wedges\" + 0.028*\"garlic cloves\" + 0.025*\"green onions\"'),\n",
       " (44,\n",
       "  '0.111*\"ground cumin\" + 0.069*\"lemon juice\" + 0.069*\"salt\" + 0.062*\"curry powder\" + 0.059*\"olive oil\" + 0.057*\"ground coriander\" + 0.056*\"boneless skinless chicken breast halves\" + 0.038*\"garlic\" + 0.033*\"ground black pepper\" + 0.031*\"plain yogurt\"'),\n",
       " (45,\n",
       "  '0.116*\"sour cream\" + 0.070*\"salsa\" + 0.070*\"flour tortillas\" + 0.056*\"chili powder\" + 0.054*\"shredded cheddar cheese\" + 0.045*\"corn tortillas\" + 0.038*\"ground cumin\" + 0.036*\"onions\" + 0.027*\"diced tomatoes\" + 0.026*\"shredded Monterey Jack cheese\"'),\n",
       " (46,\n",
       "  '0.095*\"vegetable oil cooking spray\" + 0.071*\"Tabasco Pepper Sauce\" + 0.071*\"ice water\" + 0.061*\"grated orange\" + 0.056*\"dried shiitake mushrooms\" + 0.055*\"fontina cheese\" + 0.049*\"hazelnuts\" + 0.040*\"blanched almonds\" + 0.035*\"lime rind\" + 0.035*\"tilapia fillets\"'),\n",
       " (47,\n",
       "  '0.147*\"fish sauce\" + 0.052*\"shallots\" + 0.050*\"garlic\" + 0.044*\"lemongrass\" + 0.038*\"sugar\" + 0.038*\"beef broth\" + 0.036*\"lime\" + 0.035*\"peanuts\" + 0.034*\"cilantro leaves\" + 0.032*\"lime juice\"'),\n",
       " (48,\n",
       "  '0.182*\"chopped onion\" + 0.058*\"chickpeas\" + 0.054*\"chopped celery\" + 0.049*\"green beans\" + 0.045*\"diced tomatoes\" + 0.043*\"ground red pepper\" + 0.040*\"garlic cloves\" + 0.038*\"water\" + 0.037*\"long grain white rice\" + 0.034*\"chopped green bell pepper\"'),\n",
       " (49,\n",
       "  '0.119*\"worcestershire sauce\" + 0.104*\"hot sauce\" + 0.091*\"shrimp\" + 0.055*\"ketchup\" + 0.045*\"hot pepper sauce\" + 0.037*\"butter\" + 0.036*\"green onions\" + 0.035*\"beer\" + 0.033*\"grits\" + 0.030*\"creole seasoning\"')]"
      ]
     },
     "execution_count": 23,
     "metadata": {},
     "output_type": "execute_result"
    }
   ],
   "source": [
    "topics = ldamodel.show_topics(num_topics=50, formatted=False)\n",
    "ldamodel.show_topics(num_topics=50)"
   ]
  },
  {
   "cell_type": "markdown",
   "metadata": {},
   "source": [
    "Полученные результаты не лишены смысла — например, чаще остальных встречаются соль, сахар и различные виды масла; логично предположить, что они используются в приготовлении многих блюд. Также видно, что овощи группируются с овощами — тоже логично, например, для рецептов салатов.\n",
    "\n",
    "Но при этом есть и ошибки — например, некий half & half, который каким-то образом попал в корпус, видимо, потому что объемы ингредиентов указали прописью. Последние из тем вышли какими-то немного странными — слишком много специй, которые не то что бы хорошо сочетаются вместе."
   ]
  },
  {
   "cell_type": "markdown",
   "metadata": {},
   "source": [
    "## Фильтрация словаря, создание второй модели и подсчет когерентности"
   ]
  },
  {
   "cell_type": "markdown",
   "metadata": {},
   "source": [
    "Пофильтруем словарь по частоте, убирая самые часто встречающиеся слова, чтобы в темах не было слишком много соли, воды и прочего подобного."
   ]
  },
  {
   "cell_type": "code",
   "execution_count": 24,
   "metadata": {},
   "outputs": [],
   "source": [
    "import copy\n",
    "dictionary2 = copy.deepcopy(dictionary)"
   ]
  },
  {
   "cell_type": "code",
   "execution_count": 25,
   "metadata": {},
   "outputs": [
    {
     "name": "stdout",
     "output_type": "stream",
     "text": [
      "6714\n"
     ]
    },
    {
     "data": {
      "text/plain": [
       "6702"
      ]
     },
     "execution_count": 25,
     "metadata": {},
     "output_type": "execute_result"
    }
   ],
   "source": [
    "dictsize_bfr = len(dictionary.dfs)\n",
    "[dictionary2.dfs[key] for key in dictionary2.dfs.keys() if dictionary2.dfs[key] > 4000]\n",
    "bad_ids = [key for key in dictionary2.dfs.keys() if dictionary2.dfs[key] > 4000]\n",
    "dictionary2.filter_tokens(bad_ids)\n",
    "dictsize_after = len(dictionary2.dfs)\n",
    "print(dictsize_bfr)\n",
    "dictsize_after"
   ]
  },
  {
   "cell_type": "code",
   "execution_count": 26,
   "metadata": {},
   "outputs": [
    {
     "name": "stdout",
     "output_type": "stream",
     "text": [
      "428249\n"
     ]
    },
    {
     "data": {
      "text/plain": [
       "343665"
      ]
     },
     "execution_count": 26,
     "metadata": {},
     "output_type": "execute_result"
    }
   ],
   "source": [
    "corpus2 = [dictionary2.doc2bow(text) for text in texts]\n",
    "corpsize_bfr = 0\n",
    "corpsize_after = 0\n",
    "for c in corpus:\n",
    "    corpsize_bfr += len(c)\n",
    "\n",
    "for c in corpus2:\n",
    "    corpsize_after  += len(c)\n",
    "    \n",
    "print(corpsize_bfr)\n",
    "corpsize_after"
   ]
  },
  {
   "cell_type": "markdown",
   "metadata": {},
   "source": [
    "Видим, что размер корпуса значительно уменьшился."
   ]
  },
  {
   "cell_type": "markdown",
   "metadata": {},
   "source": [
    "Создадим новую модель на основе новых данных."
   ]
  },
  {
   "cell_type": "code",
   "execution_count": 27,
   "metadata": {},
   "outputs": [],
   "source": [
    "np.random.seed(32562)\n",
    "model2 = models.ldamodel.LdaModel(corpus2, num_topics=50, id2word=dictionary2, passes=5)"
   ]
  },
  {
   "cell_type": "markdown",
   "metadata": {},
   "source": [
    "Посчитаем когерентность для каждой из моделей: считается, что она адекватно соотносится с оценками тем, выдаваемыми реальными людьми."
   ]
  },
  {
   "cell_type": "code",
   "execution_count": 32,
   "metadata": {},
   "outputs": [
    {
     "data": {
      "text/plain": [
       "[([(0.086747505, 'jalapeno chilies'),\n",
       "   (0.069589645, 'salt'),\n",
       "   (0.05406482, 'lime'),\n",
       "   (0.049869724, 'avocado'),\n",
       "   (0.04479628, 'cilantro'),\n",
       "   (0.042538434, 'garlic'),\n",
       "   (0.041623518, 'fresh cilantro'),\n",
       "   (0.036688436, 'white onion'),\n",
       "   (0.035725955, 'olive oil'),\n",
       "   (0.03567023, 'chopped cilantro'),\n",
       "   (0.032413054, 'purple onion'),\n",
       "   (0.028683137, 'ground cumin'),\n",
       "   (0.027292015, 'black beans'),\n",
       "   (0.025978522, 'tomatoes'),\n",
       "   (0.022948073, 'garlic cloves'),\n",
       "   (0.022504998, 'pepper'),\n",
       "   (0.021081086, 'cumin'),\n",
       "   (0.019557778, 'corn tortillas'),\n",
       "   (0.018524852, 'kosher salt'),\n",
       "   (0.01754231, 'chili powder')],\n",
       "  -2.31333492170188),\n",
       " ([(0.09524282, 'onions'),\n",
       "   (0.0921805, 'carrots'),\n",
       "   (0.04851934, 'salt'),\n",
       "   (0.04739461, 'bay leaf'),\n",
       "   (0.043482516, 'tomato paste'),\n",
       "   (0.04250206, 'bay leaves'),\n",
       "   (0.040722154, 'celery'),\n",
       "   (0.03916129, 'water'),\n",
       "   (0.037198026, 'celery ribs'),\n",
       "   (0.036282014, 'olive oil'),\n",
       "   (0.036040075, 'garlic cloves'),\n",
       "   (0.035084464, 'garlic'),\n",
       "   (0.02885491, 'ground black pepper'),\n",
       "   (0.028632825, 'dried thyme'),\n",
       "   (0.024031855, 'thyme'),\n",
       "   (0.020645661, 'diced tomatoes'),\n",
       "   (0.01692271, 'yellow onion'),\n",
       "   (0.015896326, 'fresh parsley'),\n",
       "   (0.015416675, 'chicken broth'),\n",
       "   (0.0151252765, 'black pepper')],\n",
       "  -2.484472182436694),\n",
       " ([(0.10131721, 'soy sauce'),\n",
       "   (0.05702762, 'sesame oil'),\n",
       "   (0.04817947, 'corn starch'),\n",
       "   (0.046164673, 'garlic'),\n",
       "   (0.04345582, 'green onions'),\n",
       "   (0.03871125, 'sugar'),\n",
       "   (0.03370516, 'water'),\n",
       "   (0.030423684, 'scallions'),\n",
       "   (0.029834334, 'salt'),\n",
       "   (0.029275663, 'ginger'),\n",
       "   (0.027044646, 'rice vinegar'),\n",
       "   (0.026713721, 'vegetable oil'),\n",
       "   (0.026592702, 'fresh ginger'),\n",
       "   (0.019070055, 'carrots'),\n",
       "   (0.018714683, 'peanut oil'),\n",
       "   (0.018586252, 'garlic cloves'),\n",
       "   (0.015438528, 'oil'),\n",
       "   (0.014766005, 'minced garlic'),\n",
       "   (0.014537346, 'honey'),\n",
       "   (0.0144243315, 'oyster sauce')],\n",
       "  -2.494896152658097)]"
      ]
     },
     "execution_count": 32,
     "metadata": {},
     "output_type": "execute_result"
    }
   ],
   "source": [
    "coh  = ldamodel.top_topics(corpus)\n",
    "coh2 = model2.top_topics(corpus2)\n",
    "coh[:3]"
   ]
  },
  {
   "cell_type": "code",
   "execution_count": 33,
   "metadata": {},
   "outputs": [
    {
     "data": {
      "text/plain": [
       "[([(0.06337694, 'ground turmeric'),\n",
       "   (0.05973912, 'garam masala'),\n",
       "   (0.051397268, 'cumin seed'),\n",
       "   (0.049070075, 'tumeric'),\n",
       "   (0.045023177, 'curry powder'),\n",
       "   (0.044095464, 'ground cumin'),\n",
       "   (0.040712275, 'ginger'),\n",
       "   (0.034658577, 'tomatoes'),\n",
       "   (0.03295894, 'chili powder'),\n",
       "   (0.032869358, 'ground coriander'),\n",
       "   (0.028202906, 'fresh ginger'),\n",
       "   (0.02709223, 'coriander'),\n",
       "   (0.021030853, 'chickpeas'),\n",
       "   (0.019730303, 'basmati rice'),\n",
       "   (0.019693896, 'green chilies'),\n",
       "   (0.01763713, 'fresh coriander'),\n",
       "   (0.017537806, 'coconut milk'),\n",
       "   (0.017325023, 'lemon juice'),\n",
       "   (0.016168356, 'cilantro leaves'),\n",
       "   (0.015905388, 'cayenne pepper')],\n",
       "  -2.6047412715452287),\n",
       " ([(0.087192535, 'avocado'),\n",
       "   (0.07720868, 'lime'),\n",
       "   (0.0668395, 'cilantro'),\n",
       "   (0.064319976, 'chicken breasts'),\n",
       "   (0.059751682, 'black beans'),\n",
       "   (0.04754763, 'jalapeno chilies'),\n",
       "   (0.044628557, 'cumin'),\n",
       "   (0.03759231, 'chili powder'),\n",
       "   (0.03273724, 'purple onion'),\n",
       "   (0.029288499, 'lime juice'),\n",
       "   (0.026975935, 'tortilla chips'),\n",
       "   (0.024844546, 'corn kernels'),\n",
       "   (0.024421904, 'ground cumin'),\n",
       "   (0.023050496, 'tomatoes'),\n",
       "   (0.019844564, 'chicken broth'),\n",
       "   (0.018396236, 'corn'),\n",
       "   (0.016577287, 'cilantro leaves'),\n",
       "   (0.016425224, 'fresh cilantro'),\n",
       "   (0.015844574, 'red bell pepper'),\n",
       "   (0.0148531655, 'salsa')],\n",
       "  -2.746847855130397),\n",
       " ([(0.10523413, 'corn starch'),\n",
       "   (0.09690616, 'soy sauce'),\n",
       "   (0.066544265, 'sesame oil'),\n",
       "   (0.063144654, 'ginger'),\n",
       "   (0.042180076, 'white pepper'),\n",
       "   (0.042094395, 'peanut oil'),\n",
       "   (0.036401678, 'scallions'),\n",
       "   (0.035396285, 'oyster sauce'),\n",
       "   (0.03422582, 'oil'),\n",
       "   (0.031466987, 'spring onions'),\n",
       "   (0.031322807, 'green onions'),\n",
       "   (0.029814769, 'light soy sauce'),\n",
       "   (0.0238704, 'dark soy sauce'),\n",
       "   (0.02151982, 'rice vinegar'),\n",
       "   (0.019868236, 'boneless skinless chicken breasts'),\n",
       "   (0.019546397, 'minced garlic'),\n",
       "   (0.018973647, 'rice wine'),\n",
       "   (0.017549098, 'fresh ginger'),\n",
       "   (0.016082454, 'eggs'),\n",
       "   (0.015860474, 'minced ginger')],\n",
       "  -2.8222916443269725)]"
      ]
     },
     "execution_count": 33,
     "metadata": {},
     "output_type": "execute_result"
    }
   ],
   "source": [
    "coh2[:3]"
   ]
  },
  {
   "cell_type": "markdown",
   "metadata": {},
   "source": [
    "Не очень уверена, что правильно интерпретирую данные результаты, но кажется, что в случае второй модели получилось лучше: например, первая тема отчетливо связана с индийской кухней, а вторая — с мексиканской. В случае первой модели такое можно сказать только про первую тему."
   ]
  },
  {
   "cell_type": "markdown",
   "metadata": {},
   "source": [
    "## Обучение "
   ]
  },
  {
   "cell_type": "markdown",
   "metadata": {},
   "source": [
    "Обучим классификатор рецептов на кухни на признаках из LDA."
   ]
  },
  {
   "cell_type": "code",
   "execution_count": 42,
   "metadata": {},
   "outputs": [
    {
     "name": "stderr",
     "output_type": "stream",
     "text": [
      "/anaconda2/envs/python3/lib/python3.6/site-packages/sklearn/cross_validation.py:41: DeprecationWarning: This module was deprecated in version 0.18 in favor of the model_selection module into which all the refactored classes and functions are moved. Also note that the interface of the new CV iterators are different from that of this module. This module will be removed in 0.20.\n",
      "  \"This module will be removed in 0.20.\", DeprecationWarning)\n"
     ]
    }
   ],
   "source": [
    "from sklearn.model_selection import train_test_split\n",
    "from sklearn.metrics import classification_report\n",
    "from sklearn.linear_model import LogisticRegression"
   ]
  },
  {
   "cell_type": "code",
   "execution_count": 36,
   "metadata": {},
   "outputs": [],
   "source": [
    "topics = model2.get_document_topics(corpus2, minimum_probability=0)"
   ]
  },
  {
   "cell_type": "markdown",
   "metadata": {},
   "source": [
    "Создаем матрицу вероятностей тем в документах."
   ]
  },
  {
   "cell_type": "code",
   "execution_count": 38,
   "metadata": {},
   "outputs": [
    {
     "data": {
      "text/plain": [
       "array([[0.00250005, 0.00250005, 0.00250005, 0.00250005, 0.00250005,\n",
       "        0.00250005, 0.00250005, 0.00250005, 0.00250005, 0.00250005,\n",
       "        0.25250074, 0.00250005, 0.00250005, 0.00250005, 0.00250005,\n",
       "        0.00250005, 0.00250005, 0.00250005, 0.00250005, 0.00250005,\n",
       "        0.00250005, 0.00250005, 0.00250005, 0.00250005, 0.00250005,\n",
       "        0.00250005, 0.00250005, 0.00250005, 0.00250005, 0.00250005,\n",
       "        0.00250005, 0.00250005, 0.00250005, 0.00250005, 0.00250005,\n",
       "        0.00250005, 0.00250005, 0.00250005, 0.29699513, 0.20800801,\n",
       "        0.00250005, 0.00250005, 0.12749398, 0.00250005, 0.00250005,\n",
       "        0.00250005, 0.00250005, 0.00250005, 0.00250005, 0.00250005],\n",
       "       [0.13382208, 0.00222226, 0.00222226, 0.24590917, 0.00222226,\n",
       "        0.00222226, 0.00222226, 0.00222226, 0.00222226, 0.00222226,\n",
       "        0.00222226, 0.00222226, 0.00222226, 0.00222226, 0.00222226,\n",
       "        0.00222226, 0.00222226, 0.00222226, 0.00222226, 0.00222226,\n",
       "        0.00222226, 0.00222226, 0.00222226, 0.00222226, 0.00222226,\n",
       "        0.00222226, 0.00222226, 0.00222226, 0.00222226, 0.00222226,\n",
       "        0.00222226, 0.00222226, 0.00222226, 0.00222226, 0.00222226,\n",
       "        0.00222226, 0.00222226, 0.00222226, 0.00222226, 0.00222226,\n",
       "        0.00222226, 0.00222226, 0.00222226, 0.00222226, 0.22444668,\n",
       "        0.00222226, 0.11333194, 0.00222226, 0.00222226, 0.18248835],\n",
       "       [0.00200118, 0.00200118, 0.00200118, 0.00200118, 0.00200118,\n",
       "        0.00200118, 0.00200118, 0.00200118, 0.00200118, 0.00200118,\n",
       "        0.00200118, 0.00200118, 0.14245225, 0.00200118, 0.00200118,\n",
       "        0.1153945 , 0.00200118, 0.00200118, 0.11589643, 0.00200118,\n",
       "        0.00200118, 0.00200118, 0.00200118, 0.00200118, 0.00200118,\n",
       "        0.00200118, 0.00200118, 0.00200118, 0.00200118, 0.00200118,\n",
       "        0.00200118, 0.00200118, 0.00200118, 0.00200118, 0.00200118,\n",
       "        0.00200118, 0.08140104, 0.00200118, 0.00200118, 0.00200118,\n",
       "        0.00200118, 0.00200118, 0.00200118, 0.00200118, 0.08012467,\n",
       "        0.00200118, 0.00200118, 0.07707638, 0.10149081, 0.20211437]])"
      ]
     },
     "execution_count": 38,
     "metadata": {},
     "output_type": "execute_result"
    }
   ],
   "source": [
    "#Здесь кусок не моего кода, найденный при попытке решить поставленную задачу.\n",
    "p = np.zeros([len(topics), 50])\n",
    "for i in range(len(topics)):\n",
    "    for t in topics[i]:\n",
    "        p[i, t[0]] = t[1]\n",
    "\n",
    "p[:3]"
   ]
  },
  {
   "cell_type": "code",
   "execution_count": 40,
   "metadata": {},
   "outputs": [
    {
     "data": {
      "text/plain": [
       "['greek',\n",
       " 'southern_us',\n",
       " 'filipino',\n",
       " 'indian',\n",
       " 'indian',\n",
       " 'jamaican',\n",
       " 'spanish',\n",
       " 'italian',\n",
       " 'mexican',\n",
       " 'italian',\n",
       " 'italian',\n",
       " 'chinese',\n",
       " 'italian',\n",
       " 'mexican',\n",
       " 'italian',\n",
       " 'indian',\n",
       " 'british',\n",
       " 'italian',\n",
       " 'thai',\n",
       " 'vietnamese']"
      ]
     },
     "execution_count": 40,
     "metadata": {},
     "output_type": "execute_result"
    }
   ],
   "source": [
    "y = [recipe[\"cuisine\"] for recipe in recipes]\n",
    "y[:20]"
   ]
  },
  {
   "cell_type": "code",
   "execution_count": 47,
   "metadata": {},
   "outputs": [],
   "source": [
    "X_train, X_test, y_train, y_test = train_test_split(p, y)"
   ]
  },
  {
   "cell_type": "code",
   "execution_count": 49,
   "metadata": {},
   "outputs": [],
   "source": [
    "clf = LogisticRegression()\n",
    "clffit = clf.fit(X_train, y_train)"
   ]
  },
  {
   "cell_type": "code",
   "execution_count": 50,
   "metadata": {},
   "outputs": [
    {
     "name": "stdout",
     "output_type": "stream",
     "text": [
      "              precision    recall  f1-score   support\n",
      "\n",
      "   brazilian       0.00      0.00      0.00       116\n",
      "     british       0.00      0.00      0.00       191\n",
      "cajun_creole       0.50      0.40      0.45       388\n",
      "     chinese       0.56      0.76      0.64       668\n",
      "    filipino       0.72      0.11      0.19       197\n",
      "      french       0.43      0.23      0.30       664\n",
      "       greek       0.48      0.25      0.33       292\n",
      "      indian       0.70      0.77      0.73       765\n",
      "       irish       0.35      0.09      0.14       164\n",
      "     italian       0.54      0.81      0.65      1865\n",
      "    jamaican       0.00      0.00      0.00       127\n",
      "    japanese       0.55      0.39      0.46       375\n",
      "      korean       0.44      0.21      0.28       218\n",
      "     mexican       0.72      0.83      0.77      1673\n",
      "    moroccan       0.52      0.25      0.34       194\n",
      "     russian       0.00      0.00      0.00       130\n",
      " southern_us       0.39      0.60      0.47      1055\n",
      "     spanish       0.00      0.00      0.00       271\n",
      "        thai       0.51      0.59      0.55       384\n",
      "  vietnamese       0.00      0.00      0.00       207\n",
      "\n",
      " avg / total       0.50      0.56      0.50      9944\n",
      "\n"
     ]
    },
    {
     "name": "stderr",
     "output_type": "stream",
     "text": [
      "/anaconda2/envs/python3/lib/python3.6/site-packages/sklearn/metrics/classification.py:1135: UndefinedMetricWarning: Precision and F-score are ill-defined and being set to 0.0 in labels with no predicted samples.\n",
      "  'precision', 'predicted', average, warn_for)\n"
     ]
    }
   ],
   "source": [
    "print(classification_report(y_test, clf.predict(X_test)))"
   ]
  },
  {
   "cell_type": "markdown",
   "metadata": {},
   "source": [
    "Вышло немного странно — у некоторых из кухонь вообще нулевые показатели метрик. Попробуем другой классификатор."
   ]
  },
  {
   "cell_type": "code",
   "execution_count": 51,
   "metadata": {},
   "outputs": [],
   "source": [
    "from sklearn.ensemble import RandomForestClassifier"
   ]
  },
  {
   "cell_type": "code",
   "execution_count": 64,
   "metadata": {},
   "outputs": [],
   "source": [
    "clf2 = RandomForestClassifier(n_estimators=100)"
   ]
  },
  {
   "cell_type": "code",
   "execution_count": 70,
   "metadata": {},
   "outputs": [],
   "source": [
    "clffit = clf2.fit(X_train, y_train)"
   ]
  },
  {
   "cell_type": "code",
   "execution_count": 54,
   "metadata": {},
   "outputs": [
    {
     "name": "stdout",
     "output_type": "stream",
     "text": [
      "              precision    recall  f1-score   support\n",
      "\n",
      "   brazilian       0.57      0.20      0.29       116\n",
      "     british       0.19      0.07      0.10       191\n",
      "cajun_creole       0.51      0.43      0.47       388\n",
      "     chinese       0.58      0.71      0.64       668\n",
      "    filipino       0.38      0.18      0.24       197\n",
      "      french       0.38      0.28      0.32       664\n",
      "       greek       0.47      0.23      0.31       292\n",
      "      indian       0.71      0.77      0.74       765\n",
      "       irish       0.29      0.09      0.14       164\n",
      "     italian       0.55      0.79      0.65      1865\n",
      "    jamaican       0.62      0.16      0.25       127\n",
      "    japanese       0.53      0.41      0.46       375\n",
      "      korean       0.44      0.27      0.33       218\n",
      "     mexican       0.75      0.82      0.78      1673\n",
      "    moroccan       0.58      0.31      0.40       194\n",
      "     russian       0.25      0.03      0.05       130\n",
      " southern_us       0.42      0.58      0.49      1055\n",
      "     spanish       0.30      0.05      0.08       271\n",
      "        thai       0.51      0.58      0.54       384\n",
      "  vietnamese       0.43      0.22      0.29       207\n",
      "\n",
      " avg / total       0.54      0.56      0.53      9944\n",
      "\n"
     ]
    }
   ],
   "source": [
    "print(classification_report(y_test, clf2.predict(X_test)))"
   ]
  },
  {
   "cell_type": "markdown",
   "metadata": {},
   "source": [
    "Стало значительно лучше — нулевых значений больше нет вообще, хотя общие показатели метрик оставляют желать лучшего. Давайте попробуем еще раз."
   ]
  },
  {
   "cell_type": "code",
   "execution_count": 55,
   "metadata": {},
   "outputs": [],
   "source": [
    "from sklearn.naive_bayes import MultinomialNB"
   ]
  },
  {
   "cell_type": "code",
   "execution_count": 56,
   "metadata": {},
   "outputs": [],
   "source": [
    "clf = MultinomialNB()\n",
    "clffit = clf.fit(X_train, y_train)"
   ]
  },
  {
   "cell_type": "code",
   "execution_count": 57,
   "metadata": {},
   "outputs": [
    {
     "name": "stdout",
     "output_type": "stream",
     "text": [
      "              precision    recall  f1-score   support\n",
      "\n",
      "   brazilian       0.00      0.00      0.00       116\n",
      "     british       0.00      0.00      0.00       191\n",
      "cajun_creole       0.00      0.00      0.00       388\n",
      "     chinese       0.58      0.59      0.59       668\n",
      "    filipino       0.00      0.00      0.00       197\n",
      "      french       0.00      0.00      0.00       664\n",
      "       greek       0.00      0.00      0.00       292\n",
      "      indian       0.83      0.57      0.67       765\n",
      "       irish       0.00      0.00      0.00       164\n",
      "     italian       0.30      0.95      0.46      1865\n",
      "    jamaican       0.00      0.00      0.00       127\n",
      "    japanese       1.00      0.04      0.08       375\n",
      "      korean       0.00      0.00      0.00       218\n",
      "     mexican       0.67      0.81      0.73      1673\n",
      "    moroccan       0.00      0.00      0.00       194\n",
      "     russian       0.00      0.00      0.00       130\n",
      " southern_us       0.47      0.31      0.37      1055\n",
      "     spanish       0.00      0.00      0.00       271\n",
      "        thai       0.55      0.17      0.26       384\n",
      "  vietnamese       0.00      0.00      0.00       207\n",
      "\n",
      " avg / total       0.38      0.44      0.35      9944\n",
      "\n"
     ]
    },
    {
     "name": "stderr",
     "output_type": "stream",
     "text": [
      "/anaconda2/envs/python3/lib/python3.6/site-packages/sklearn/metrics/classification.py:1135: UndefinedMetricWarning: Precision and F-score are ill-defined and being set to 0.0 in labels with no predicted samples.\n",
      "  'precision', 'predicted', average, warn_for)\n"
     ]
    }
   ],
   "source": [
    "print(classification_report(y_test, clf.predict(X_test)))"
   ]
  },
  {
   "cell_type": "markdown",
   "metadata": {},
   "source": [
    "<s>Мда, лучше бы и не пытаться.</s> Будем считать, что случайный лес помог нам лучше всего."
   ]
  },
  {
   "cell_type": "markdown",
   "metadata": {},
   "source": [
    "Немного визуализации."
   ]
  },
  {
   "cell_type": "code",
   "execution_count": 68,
   "metadata": {},
   "outputs": [],
   "source": [
    "import pandas\n",
    "import seaborn as sns\n",
    "from matplotlib import pyplot as plt\n",
    "from sklearn.metrics import confusion_matrix"
   ]
  },
  {
   "cell_type": "code",
   "execution_count": 71,
   "metadata": {},
   "outputs": [
    {
     "data": {
      "image/png": "[encoded data removed]",
      "text/plain": [
       "<Figure size 432x288 with 1 Axes>"
      ]
     },
     "metadata": {},
     "output_type": "display_data"
    }
   ],
   "source": [
    "categories = ['brazilian', 'british', 'cajun_creole', 'chinese', 'filipino', 'french', 'greek',\n",
    "             'indian', 'irish', 'italian', 'jamaican', 'japanese', 'korean', 'mexican', 'moroccan',\n",
    "             'russian', 'southern_us', 'spanish', 'thai', 'vietnamese']\n",
    "sns.heatmap(data=confusion_matrix(y_test, clf2.predict(X_test)), annot=True, fmt=\"d\", cbar=False, xticklabels=categories, yticklabels=categories)\n",
    "plt.title(\"Confusion matrix\")\n",
    "plt.show()"
   ]
  },
  {
   "cell_type": "code",
   "execution_count": 98,
   "metadata": {},
   "outputs": [],
   "source": [
    "#Не мой код, но выглядит симпатично\n",
    "def plot_classification_report(cr, title='Classification report ', with_avg_total=False, cmap=plt.cm.Blues):\n",
    "\n",
    "    lines = cr.split('\\n')\n",
    "\n",
    "    classes = []\n",
    "    plotMat = []\n",
    "    for line in lines[2 : (len(lines) - 3)]:\n",
    "        #print(line)\n",
    "        t = line.split()\n",
    "        # print(t)\n",
    "        classes.append(t[0])\n",
    "        v = [float(x) for x in t[1: len(t) - 1]]\n",
    "        print(v)\n",
    "        plotMat.append(v)\n",
    "\n",
    "    if with_avg_total:\n",
    "        aveTotal = lines[len(lines) - 1].split()\n",
    "        classes.append('avg/total')\n",
    "        vAveTotal = [float(x) for x in t[1:len(aveTotal) - 1]]\n",
    "        plotMat.append(vAveTotal)\n",
    "\n",
    "\n",
    "    plt.imshow(plotMat, interpolation='nearest', cmap=cmap)\n",
    "    plt.title(title)\n",
    "    plt.colorbar()\n",
    "    x_tick_marks = np.arange(3)\n",
    "    y_tick_marks = np.arange(len(classes))\n",
    "    plt.xticks(x_tick_marks, ['precision', 'recall', 'f1-score'], rotation=45)\n",
    "    plt.yticks(y_tick_marks, classes)\n",
    "    plt.tight_layout()\n",
    "    plt.ylabel('Classes')\n",
    "    plt.xlabel('Measures')"
   ]
  },
  {
   "cell_type": "code",
   "execution_count": 99,
   "metadata": {},
   "outputs": [
    {
     "name": "stdout",
     "output_type": "stream",
     "text": [
      "[0.57, 0.2, 0.29]\n",
      "[0.19, 0.07, 0.1]\n",
      "[0.51, 0.43, 0.47]\n",
      "[0.58, 0.71, 0.64]\n",
      "[0.38, 0.18, 0.24]\n",
      "[0.38, 0.28, 0.32]\n",
      "[0.47, 0.23, 0.31]\n",
      "[0.71, 0.77, 0.74]\n",
      "[0.29, 0.09, 0.14]\n",
      "[0.55, 0.79, 0.65]\n",
      "[0.62, 0.16, 0.25]\n",
      "[0.53, 0.41, 0.46]\n",
      "[0.44, 0.27, 0.33]\n",
      "[0.75, 0.82, 0.78]\n",
      "[0.58, 0.31, 0.4]\n",
      "[0.25, 0.03, 0.05]\n",
      "[0.42, 0.58, 0.49]\n",
      "[0.3, 0.05, 0.08]\n",
      "[0.51, 0.58, 0.54]\n"
     ]
    },
    {
     "data": {
      "image/png": "[encoded data removed]",
      "text/plain": [
       "<Figure size 576x396 with 2 Axes>"
      ]
     },
     "metadata": {},
     "output_type": "display_data"
    }
   ],
   "source": [
    "data = \"\"\"             precision    recall  f1-score   support\n",
    "\n",
    "   brazilian       0.57      0.20      0.29       116\n",
    "     british       0.19      0.07      0.10       191\n",
    "cajun_creole       0.51      0.43      0.47       388\n",
    "     chinese       0.58      0.71      0.64       668\n",
    "    filipino       0.38      0.18      0.24       197\n",
    "      french       0.38      0.28      0.32       664\n",
    "       greek       0.47      0.23      0.31       292\n",
    "      indian       0.71      0.77      0.74       765\n",
    "       irish       0.29      0.09      0.14       164\n",
    "     italian       0.55      0.79      0.65      1865\n",
    "    jamaican       0.62      0.16      0.25       127\n",
    "    japanese       0.53      0.41      0.46       375\n",
    "      korean       0.44      0.27      0.33       218\n",
    "     mexican       0.75      0.82      0.78      1673\n",
    "    moroccan       0.58      0.31      0.40       194\n",
    "     russian       0.25      0.03      0.05       130\n",
    " southern_us       0.42      0.58      0.49      1055\n",
    "     spanish       0.30      0.05      0.08       271\n",
    "        thai       0.51      0.58      0.54       384\n",
    "  vietnamese       0.43      0.22      0.29       207\n",
    "\n",
    " avg / total       0.54      0.56      0.53      9944\"\"\"\n",
    "\n",
    "\n",
    "plot_classification_report(data)"
   ]
  }
 ],
 "metadata": {
  "kernelspec": {
   "display_name": "Python 3",
   "language": "python",
   "name": "python3"
  },
  "language_info": {
   "codemirror_mode": {
    "name": "ipython",
    "version": 3
   },
   "file_extension": ".py",
   "mimetype": "text/x-python",
   "name": "python",
   "nbconvert_exporter": "python",
   "pygments_lexer": "ipython3",
   "version": "3.6.5"
  }
 },
 "nbformat": 4,
 "nbformat_minor": 2
}
